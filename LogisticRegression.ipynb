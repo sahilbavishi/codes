{
 "cells": [
  {
   "cell_type": "code",
   "execution_count": 26,
   "metadata": {},
   "outputs": [],
   "source": [
    "import pandas as pd\n",
    "import numpy as np\n",
    "import matplotlib.pyplot as plt\n",
    "\n",
    "data = pd.read_csv('heartdisease.csv')\n",
    "A = data[['age', 'cigsPerDay','totChol','BMI','sysBP', 'diaBP', 'heartRate','education', 'BPMeds', 'male', 'currentSmoker', 'prevalentStroke', 'prevalentHyp', 'diabetes', 'TenYearCHD']]\n",
    "A = A.fillna(0.0)\n",
    "matrix = np.array(A.values, 'float')\n",
    "X1 = matrix[:, 0:14]\n",
    "Y = matrix[:, 14]\n",
    "for q in range(0,7):\n",
    "    X1[:,q] = X1[:,q]/(np.max(X1[:, q]))\n",
    "X1 = X1.reshape([Y.size, 14])\n",
    "x = np.hstack([np.ones((X1[:, 0].size, 1)), X1])\n",
    "theta = np.zeros((15, 1))\n",
    "m = np.size(Y)\n",
    "iterholder = np.zeros((500, 1))\n",
    "temp = np.zeros((15, 1))\n",
    "\n",
    "\n",
    "def sigmoid(inputin):\n",
    "    f = inputin\n",
    "    return 1 / (1 + np.exp(-f))\n",
    "\n",
    "\n",
    "def compute(x, Y, theta):\n",
    "    alpha = 0.000001\n",
    "    iteration = 500\n",
    "    # gradient descend thing\n",
    "    Loss = np.zeros([iteration, 1])\n",
    "\n",
    "    for iter in range(0, iteration):\n",
    "        thing = (x @ theta)\n",
    "        Hx = sigmoid(thing)\n",
    "        sigma = Hx - Y\n",
    "        for j in range(0, 15):\n",
    "            temp[j] = theta[j] - ((alpha / m) * np.sum(sigma * x[:, j]))\n",
    "\n",
    "        theta = temp\n",
    "        iterholder[iter] = iter\n",
    "        Loss[iter] = (-1 / m) * (np.sum((Y) @ np.log(Hx)) + np.sum(((1 - Y) @ np.log(1 - Hx))))\n",
    "\n",
    "    return theta, Loss\n",
    "\n",
    "\n",
    "Theta, loss = compute(x, Y, theta)\n"
   ]
  },
  {
   "cell_type": "code",
   "execution_count": 35,
   "metadata": {},
   "outputs": [
    {
     "name": "stdout",
     "output_type": "stream",
     "text": [
      "FP =  1486\n",
      "FN =  305\n",
      "TP =  339\n",
      "TN =  2108\n"
     ]
    },
    {
     "data": {
      "image/png": "[encoded data removed]",
      "text/plain": [
       "<Figure size 432x288 with 1 Axes>"
      ]
     },
     "metadata": {
      "needs_background": "light"
     },
     "output_type": "display_data"
    }
   ],
   "source": [
    "prediction = sigmoid(x @ Theta)\n",
    "FP = 0\n",
    "FN = 0\n",
    "TP = 0\n",
    "TN = 0\n",
    "for j in range(0,Y.size):\n",
    "    if prediction[j] >= 0.20:\n",
    "        prediction[j] = 1\n",
    "    else:\n",
    "        prediction[j] = 0\n",
    "for r in range(0,Y.size):\n",
    "    if Y[r] == 1 and Y[r] == prediction[r]:\n",
    "        TP += 1\n",
    "    if Y[r] == 1 and Y[r] != prediction[r]:\n",
    "        FN +=1\n",
    "    if Y[r] == 0 and Y[r] == prediction[r]:\n",
    "        TN += 1\n",
    "    if Y[r] == 0 and Y[r] != prediction[r]:\n",
    "        FP += 1\n",
    "        \n",
    "print('FP = ',FP)\n",
    "print('FN = ',FN)\n",
    "print('TP = ',TP)\n",
    "print('TN = ',TN)\n",
    "\n",
    "plt.plot(iterholder,loss)\n",
    "plt.xlabel('Iterations')\n",
    "plt.ylabel('Loss')\n",
    "plt.show()"
   ]
  },
  {
   "cell_type": "code",
   "execution_count": null,
   "metadata": {},
   "outputs": [],
   "source": []
  }
 ],
 "metadata": {
  "kernelspec": {
   "display_name": "Python 3",
   "language": "python",
   "name": "python3"
  },
  "language_info": {
   "codemirror_mode": {
    "name": "ipython",
    "version": 3
   },
   "file_extension": ".py",
   "mimetype": "text/x-python",
   "name": "python",
   "nbconvert_exporter": "python",
   "pygments_lexer": "ipython3",
   "version": "3.8.3"
  }
 },
 "nbformat": 4,
 "nbformat_minor": 4
}
