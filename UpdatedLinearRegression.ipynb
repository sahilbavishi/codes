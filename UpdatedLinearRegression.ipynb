{
 "cells": [
  {
   "cell_type": "code",
   "execution_count": 2,
   "metadata": {},
   "outputs": [],
   "source": [
    "import pandas as pd\n",
    "import numpy as np\n",
    "import matplotlib.pyplot as plt\n",
    "data = pd.read_csv('car_price.csv')\n",
    "A = data[['km_driven', 'year', 'mileage', 'engine', 'max_power', 'owner', 'fuel', 'seller_type', 'transmission', 'selling_price']]\n",
    "A = A.replace(['First Owner', 'Second Owner', 'Third Owner','Fourth & Above Owner', 'Test Drive Car'], ['1', '0.75', '0.5', '0.25', '0'])\n",
    "A = A.replace(['Petrol', 'Diesel', 'LPG', 'CNG'], ['1', '0.75', '0.5', '0.25'])\n",
    "A = A.replace(['Dealer', 'Individual', 'Trustmark Dealer'], ['1', '0.66','0.33'])\n",
    "A = A.replace(['Automatic', 'Manual'], ['1', '0.5'])\n",
    "A['engine'] = A.engine.str.replace(' CC', '0')\n",
    "A['mileage'] = A.mileage.str.replace(' kmpl', '0')\n",
    "A['mileage'] = A.mileage.str.replace(' km/kg', '0')\n",
    "A['max_power'] = A.max_power.str.replace(' bhp', '0')\n",
    "listS = ['km_driven', 'year', 'mileage', 'engine', 'max_power', 'owner', 'fuel', 'seller_type', 'transmission', 'selling_price']\n",
    "for idk in listS:\n",
    "    A[idk] = A[idk].astype('float64')      # replacing NaN values\n",
    "    A[idk] = A[idk].fillna(A[idk].mean())\n",
    "matrix = np.array(A.values, 'float64')\n",
    "X1 = matrix[:, (0,1,2,3,4,5,6,7,8)]   \n",
    "y = matrix[:, 9]                      # selling price\n",
    "for i in range(0,5):\n",
    "    X1[:,i] = X1[:,i]/(np.max(X1[:, i]))   #normalisation\n",
    "m = np.size(y)\n",
    "X1 = X1.reshape([X1[:,0].size, 9])\n",
    "x = np.hstack([np.ones((X1[:,0].size, 1)), X1])\n",
    "theta = np.zeros((10,1))\n",
    "temp = np.zeros((10,1))\n",
    "iters = np.ones((2000,1))\n",
    "def gradient(x, y, theta):\n",
    "    alpha = 0.0000001\n",
    "    iteration = 2000\n",
    "    # gradient descend \n",
    "    J_history = np.zeros([iteration, 1], dtype = 'float64')\n",
    "\n",
    "    for iter in range(0, iteration):\n",
    "        error = (x @ theta) - y\n",
    "        for j in range(0,10):\n",
    "            temp[j] = theta[j] - ((alpha / m) * np.sum(error * x[:, j]))\n",
    "\n",
    "        theta = temp\n",
    "        J_history[iter] = (1 / (2 * m)) * (np.sum(((x @ theta) - y) ** 2))\n",
    "        iters[iter] = iter\n",
    "    return theta, J_history\n",
    "\n",
    "theta, loss = gradient(x, y, theta)"
   ]
  },
  {
   "cell_type": "code",
   "execution_count": 3,
   "metadata": {},
   "outputs": [
    {
     "data": {
      "image/png": "[encoded data removed]",
      "text/plain": [
       "<Figure size 432x288 with 1 Axes>"
      ]
     },
     "metadata": {
      "needs_background": "light"
     },
     "output_type": "display_data"
    }
   ],
   "source": [
    "plt.plot(iters, loss)\n",
    "plt.ylabel('loss')\n",
    "plt.xlabel('iterations')\n",
    "plt.grid()\n",
    "plt.show()"
   ]
  },
  {
   "cell_type": "code",
   "execution_count": null,
   "metadata": {},
   "outputs": [],
   "source": []
  },
  {
   "cell_type": "code",
   "execution_count": null,
   "metadata": {},
   "outputs": [],
   "source": []
  }
 ],
 "metadata": {
  "kernelspec": {
   "display_name": "Python 3",
   "language": "python",
   "name": "python3"
  },
  "language_info": {
   "codemirror_mode": {
    "name": "ipython",
    "version": 3
   },
   "file_extension": ".py",
   "mimetype": "text/x-python",
   "name": "python",
   "nbconvert_exporter": "python",
   "pygments_lexer": "ipython3",
   "version": "3.8.3"
  }
 },
 "nbformat": 4,
 "nbformat_minor": 4
}
